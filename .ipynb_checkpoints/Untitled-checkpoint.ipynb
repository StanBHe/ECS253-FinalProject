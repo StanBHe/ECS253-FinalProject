{
 "cells": [
  {
   "cell_type": "code",
   "execution_count": 4,
   "id": "b6f8ae22",
   "metadata": {},
   "outputs": [],
   "source": [
    "import pandas\n",
    "import requests"
   ]
  },
  {
   "cell_type": "code",
   "execution_count": 2,
   "id": "e704e67c",
   "metadata": {},
   "outputs": [],
   "source": [
    "df = pandas.read_csv(\"steam-200k.csv\")"
   ]
  },
  {
   "cell_type": "code",
   "execution_count": 3,
   "id": "e3401766",
   "metadata": {},
   "outputs": [
    {
     "name": "stdout",
     "output_type": "stream",
     "text": [
      "        151603712  The Elder Scrolls V Skyrim  purchase    1.0  0\n",
      "0       151603712  The Elder Scrolls V Skyrim      play  273.0  0\n",
      "1       151603712                   Fallout 4  purchase    1.0  0\n",
      "2       151603712                   Fallout 4      play   87.0  0\n",
      "3       151603712                       Spore  purchase    1.0  0\n",
      "4       151603712                       Spore      play   14.9  0\n",
      "...           ...                         ...       ...    ... ..\n",
      "199994  128470551                 Titan Souls      play    1.5  0\n",
      "199995  128470551  Grand Theft Auto Vice City  purchase    1.0  0\n",
      "199996  128470551  Grand Theft Auto Vice City      play    1.5  0\n",
      "199997  128470551                        RUSH  purchase    1.0  0\n",
      "199998  128470551                        RUSH      play    1.4  0\n",
      "\n",
      "[199999 rows x 5 columns]\n"
     ]
    }
   ],
   "source": [
    "print(df)"
   ]
  },
  {
   "cell_type": "code",
   "execution_count": 5,
   "id": "fdf4c96e",
   "metadata": {},
   "outputs": [
    {
     "name": "stderr",
     "output_type": "stream",
     "text": [
      "IOPub data rate exceeded.\n",
      "The notebook server will temporarily stop sending output\n",
      "to the client in order to avoid crashing it.\n",
      "To change this limit, set the config variable\n",
      "`--NotebookApp.iopub_data_rate_limit`.\n",
      "\n",
      "Current values:\n",
      "NotebookApp.iopub_data_rate_limit=1000000.0 (bytes/sec)\n",
      "NotebookApp.rate_limit_window=3.0 (secs)\n",
      "\n"
     ]
    }
   ],
   "source": [
    "url = \"http://api.steampowered.com/ISteamApps/GetAppList/v0001/\"\n",
    "jupyter notebook --NotebookApp.iopub_data_rate_limit=1.0e10\n",
    "response = requests.get(url)\n",
    "print(response.json())"
   ]
  },
  {
   "cell_type": "code",
   "execution_count": null,
   "id": "ef42ead5",
   "metadata": {},
   "outputs": [],
   "source": []
  }
 ],
 "metadata": {
  "kernelspec": {
   "display_name": "Python 3 (ipykernel)",
   "language": "python",
   "name": "python3"
  },
  "language_info": {
   "codemirror_mode": {
    "name": "ipython",
    "version": 3
   },
   "file_extension": ".py",
   "mimetype": "text/x-python",
   "name": "python",
   "nbconvert_exporter": "python",
   "pygments_lexer": "ipython3",
   "version": "3.9.13"
  }
 },
 "nbformat": 4,
 "nbformat_minor": 5
}
